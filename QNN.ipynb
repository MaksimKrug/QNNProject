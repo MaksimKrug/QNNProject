{
 "cells": [
  {
   "cell_type": "code",
   "execution_count": 1,
   "id": "5aae5bb2",
   "metadata": {},
   "outputs": [],
   "source": [
    "import pennylane as qml\n",
    "from pennylane import numpy as np\n",
    "from pennylane.templates import RandomLayers\n",
    "import pandas as pd\n",
    "\n",
    "import time\n",
    "import os\n",
    "# os.environ['TF_CPP_MIN_LOG_LEVEL'] = '2' \n",
    "import tensorflow as tf\n",
    "from tensorflow import keras\n",
    "import json\n",
    "\n",
    "import matplotlib.pyplot as plt\n",
    "from tqdm.notebook import tqdm"
   ]
  },
  {
   "cell_type": "code",
   "execution_count": 2,
   "id": "ad2e37bc",
   "metadata": {},
   "outputs": [],
   "source": [
    "from qnn_utils import get_mnist_data, get_quantum_data, CNNModel"
   ]
  },
  {
   "cell_type": "markdown",
   "id": "b57e63e0",
   "metadata": {},
   "source": [
    "## Load Data"
   ]
  },
  {
   "cell_type": "code",
   "execution_count": 3,
   "id": "03a69504",
   "metadata": {},
   "outputs": [],
   "source": [
    "train_images, val_images, test_images, train_labels, val_labels, test_labels = get_mnist_data(n_train=2500, n_test=500)"
   ]
  },
  {
   "cell_type": "markdown",
   "id": "b7461294",
   "metadata": {},
   "source": [
    "## Learn Models"
   ]
  },
  {
   "cell_type": "code",
   "execution_count": 4,
   "id": "4fba2a8b",
   "metadata": {},
   "outputs": [],
   "source": [
    "statistics = {\"n_layers\":[], \"n_wires\":[], \"time_processing\":[], \"Score\":[]}"
   ]
  },
  {
   "cell_type": "code",
   "execution_count": 5,
   "id": "bbb5ebe2",
   "metadata": {},
   "outputs": [
    {
     "name": "stdout",
     "output_type": "stream",
     "text": [
      "8/8 [==============================] - 0s 10ms/step - loss: 0.1519 - accuracy: 0.9640\n",
      "Wall time: 38.2 s\n"
     ]
    }
   ],
   "source": [
    "%%time\n",
    "# train Classic NN\n",
    "c_model = CNNModel()\n",
    "tensorboard_callback = tf.keras.callbacks.TensorBoard(log_dir=f\"runs/ClassicModel\", histogram_freq=1)\n",
    "# train\n",
    "c_history = c_model.fit(train_images, train_labels, validation_data=(val_images, val_labels),\n",
    "                        batch_size=64, epochs=20, verbose=0, callbacks=[tensorboard_callback])\n",
    "# validate\n",
    "results = c_model.evaluate(test_images, test_labels, batch_size=64)\n",
    "# update statistics\n",
    "statistics[\"n_layers\"].append(\"Classic\")\n",
    "statistics[\"n_wires\"].append(\"Classic\")\n",
    "statistics[\"time_processing\"].append(\"Classic\")\n",
    "statistics[\"Score\"].append(results[1])"
   ]
  },
  {
   "cell_type": "code",
   "execution_count": 6,
   "id": "38fdf92c",
   "metadata": {
    "scrolled": true
   },
   "outputs": [
    {
     "data": {
      "application/vnd.jupyter.widget-view+json": {
       "model_id": "4035880a7e724bfbb7218b567953fbd0",
       "version_major": 2,
       "version_minor": 0
      },
      "text/plain": [
       "  0%|          | 0/2000 [00:00<?, ?it/s]"
      ]
     },
     "metadata": {},
     "output_type": "display_data"
    },
    {
     "data": {
      "application/vnd.jupyter.widget-view+json": {
       "model_id": "5331c624e39543688f187f58d157834a",
       "version_major": 2,
       "version_minor": 0
      },
      "text/plain": [
       "  0%|          | 0/500 [00:00<?, ?it/s]"
      ]
     },
     "metadata": {},
     "output_type": "display_data"
    },
    {
     "data": {
      "application/vnd.jupyter.widget-view+json": {
       "model_id": "a894ade9f2b7476a97d5f5c4ae315122",
       "version_major": 2,
       "version_minor": 0
      },
      "text/plain": [
       "  0%|          | 0/500 [00:00<?, ?it/s]"
      ]
     },
     "metadata": {},
     "output_type": "display_data"
    },
    {
     "name": "stdout",
     "output_type": "stream",
     "text": [
      "8/8 [==============================] - 0s 10ms/step - loss: 0.1405 - accuracy: 0.9640\n",
      "Layers: 1, Wires: 1, Score: 0.9639999866485596\n"
     ]
    },
    {
     "data": {
      "application/vnd.jupyter.widget-view+json": {
       "model_id": "718eff0df8b643159392d10e3bd37fe6",
       "version_major": 2,
       "version_minor": 0
      },
      "text/plain": [
       "  0%|          | 0/2000 [00:00<?, ?it/s]"
      ]
     },
     "metadata": {},
     "output_type": "display_data"
    },
    {
     "data": {
      "application/vnd.jupyter.widget-view+json": {
       "model_id": "d1e2f428671240308656328bc78aea2a",
       "version_major": 2,
       "version_minor": 0
      },
      "text/plain": [
       "  0%|          | 0/500 [00:00<?, ?it/s]"
      ]
     },
     "metadata": {},
     "output_type": "display_data"
    },
    {
     "data": {
      "application/vnd.jupyter.widget-view+json": {
       "model_id": "e6ac715becb04d969b33a29d404a992d",
       "version_major": 2,
       "version_minor": 0
      },
      "text/plain": [
       "  0%|          | 0/500 [00:00<?, ?it/s]"
      ]
     },
     "metadata": {},
     "output_type": "display_data"
    },
    {
     "name": "stdout",
     "output_type": "stream",
     "text": [
      "8/8 [==============================] - 0s 10ms/step - loss: 0.1670 - accuracy: 0.9600\n",
      "Layers: 1, Wires: 2, Score: 0.9599999785423279\n"
     ]
    },
    {
     "data": {
      "application/vnd.jupyter.widget-view+json": {
       "model_id": "9911f9e3fccd44db8c360551d9a99ca4",
       "version_major": 2,
       "version_minor": 0
      },
      "text/plain": [
       "  0%|          | 0/2000 [00:00<?, ?it/s]"
      ]
     },
     "metadata": {},
     "output_type": "display_data"
    },
    {
     "data": {
      "application/vnd.jupyter.widget-view+json": {
       "model_id": "24c0367a32a442c8b018850d55e0cf39",
       "version_major": 2,
       "version_minor": 0
      },
      "text/plain": [
       "  0%|          | 0/500 [00:00<?, ?it/s]"
      ]
     },
     "metadata": {},
     "output_type": "display_data"
    },
    {
     "data": {
      "application/vnd.jupyter.widget-view+json": {
       "model_id": "2a1b09ca472440af9104aeb8267fc789",
       "version_major": 2,
       "version_minor": 0
      },
      "text/plain": [
       "  0%|          | 0/500 [00:00<?, ?it/s]"
      ]
     },
     "metadata": {},
     "output_type": "display_data"
    },
    {
     "name": "stdout",
     "output_type": "stream",
     "text": [
      "8/8 [==============================] - 0s 13ms/step - loss: 0.1220 - accuracy: 0.9680\n",
      "Layers: 1, Wires: 3, Score: 0.9679999947547913\n"
     ]
    },
    {
     "data": {
      "application/vnd.jupyter.widget-view+json": {
       "model_id": "e40948022f5b4933bcebed9f1749419e",
       "version_major": 2,
       "version_minor": 0
      },
      "text/plain": [
       "  0%|          | 0/2000 [00:00<?, ?it/s]"
      ]
     },
     "metadata": {},
     "output_type": "display_data"
    },
    {
     "data": {
      "application/vnd.jupyter.widget-view+json": {
       "model_id": "65289a25e6f948068ba97ee78d62f2d6",
       "version_major": 2,
       "version_minor": 0
      },
      "text/plain": [
       "  0%|          | 0/500 [00:00<?, ?it/s]"
      ]
     },
     "metadata": {},
     "output_type": "display_data"
    },
    {
     "data": {
      "application/vnd.jupyter.widget-view+json": {
       "model_id": "ef6fca441b8640d9b9a012bb7ede1ef4",
       "version_major": 2,
       "version_minor": 0
      },
      "text/plain": [
       "  0%|          | 0/500 [00:00<?, ?it/s]"
      ]
     },
     "metadata": {},
     "output_type": "display_data"
    },
    {
     "name": "stdout",
     "output_type": "stream",
     "text": [
      "8/8 [==============================] - 0s 10ms/step - loss: 0.1120 - accuracy: 0.9760\n",
      "Layers: 1, Wires: 4, Score: 0.9760000109672546\n"
     ]
    },
    {
     "data": {
      "application/vnd.jupyter.widget-view+json": {
       "model_id": "82ce6bba751746b2ac0ef20cc1fdbf7e",
       "version_major": 2,
       "version_minor": 0
      },
      "text/plain": [
       "  0%|          | 0/2000 [00:00<?, ?it/s]"
      ]
     },
     "metadata": {},
     "output_type": "display_data"
    },
    {
     "data": {
      "application/vnd.jupyter.widget-view+json": {
       "model_id": "7ad8ca21ebf3408da1f7b4777bd81cda",
       "version_major": 2,
       "version_minor": 0
      },
      "text/plain": [
       "  0%|          | 0/500 [00:00<?, ?it/s]"
      ]
     },
     "metadata": {},
     "output_type": "display_data"
    },
    {
     "data": {
      "application/vnd.jupyter.widget-view+json": {
       "model_id": "40df8f2c4067405e971c93917a6b1166",
       "version_major": 2,
       "version_minor": 0
      },
      "text/plain": [
       "  0%|          | 0/500 [00:00<?, ?it/s]"
      ]
     },
     "metadata": {},
     "output_type": "display_data"
    },
    {
     "name": "stdout",
     "output_type": "stream",
     "text": [
      "8/8 [==============================] - 0s 9ms/step - loss: 0.1286 - accuracy: 0.9780\n",
      "Layers: 2, Wires: 1, Score: 0.9779999852180481\n"
     ]
    },
    {
     "data": {
      "application/vnd.jupyter.widget-view+json": {
       "model_id": "f091e488bf5847d09e6a6ccee6fde90a",
       "version_major": 2,
       "version_minor": 0
      },
      "text/plain": [
       "  0%|          | 0/2000 [00:00<?, ?it/s]"
      ]
     },
     "metadata": {},
     "output_type": "display_data"
    },
    {
     "data": {
      "application/vnd.jupyter.widget-view+json": {
       "model_id": "fcbecc448bcd4064911711dbbc170720",
       "version_major": 2,
       "version_minor": 0
      },
      "text/plain": [
       "  0%|          | 0/500 [00:00<?, ?it/s]"
      ]
     },
     "metadata": {},
     "output_type": "display_data"
    },
    {
     "data": {
      "application/vnd.jupyter.widget-view+json": {
       "model_id": "f131e844a0de4ac18e903feaddb3c116",
       "version_major": 2,
       "version_minor": 0
      },
      "text/plain": [
       "  0%|          | 0/500 [00:00<?, ?it/s]"
      ]
     },
     "metadata": {},
     "output_type": "display_data"
    },
    {
     "name": "stdout",
     "output_type": "stream",
     "text": [
      "8/8 [==============================] - 0s 10ms/step - loss: 0.1664 - accuracy: 0.9600\n",
      "Layers: 2, Wires: 2, Score: 0.9599999785423279\n"
     ]
    },
    {
     "data": {
      "application/vnd.jupyter.widget-view+json": {
       "model_id": "f7367258eecc48349d6f9e50e79d0b29",
       "version_major": 2,
       "version_minor": 0
      },
      "text/plain": [
       "  0%|          | 0/2000 [00:00<?, ?it/s]"
      ]
     },
     "metadata": {},
     "output_type": "display_data"
    },
    {
     "data": {
      "application/vnd.jupyter.widget-view+json": {
       "model_id": "4e8918718078404992071729b23c23e3",
       "version_major": 2,
       "version_minor": 0
      },
      "text/plain": [
       "  0%|          | 0/500 [00:00<?, ?it/s]"
      ]
     },
     "metadata": {},
     "output_type": "display_data"
    },
    {
     "data": {
      "application/vnd.jupyter.widget-view+json": {
       "model_id": "660bc79b35984fcea7b2960f621ff305",
       "version_major": 2,
       "version_minor": 0
      },
      "text/plain": [
       "  0%|          | 0/500 [00:00<?, ?it/s]"
      ]
     },
     "metadata": {},
     "output_type": "display_data"
    },
    {
     "name": "stdout",
     "output_type": "stream",
     "text": [
      "8/8 [==============================] - 0s 11ms/step - loss: 0.1386 - accuracy: 0.9760\n",
      "Layers: 2, Wires: 3, Score: 0.9760000109672546\n"
     ]
    },
    {
     "data": {
      "application/vnd.jupyter.widget-view+json": {
       "model_id": "aee237e7c1b9487ca014aeae2ab5167c",
       "version_major": 2,
       "version_minor": 0
      },
      "text/plain": [
       "  0%|          | 0/2000 [00:00<?, ?it/s]"
      ]
     },
     "metadata": {},
     "output_type": "display_data"
    },
    {
     "data": {
      "application/vnd.jupyter.widget-view+json": {
       "model_id": "b8eb70c17f254b95b097f846a08888b5",
       "version_major": 2,
       "version_minor": 0
      },
      "text/plain": [
       "  0%|          | 0/500 [00:00<?, ?it/s]"
      ]
     },
     "metadata": {},
     "output_type": "display_data"
    },
    {
     "data": {
      "application/vnd.jupyter.widget-view+json": {
       "model_id": "0d7b5d756c384666bfd8ae1e639a08eb",
       "version_major": 2,
       "version_minor": 0
      },
      "text/plain": [
       "  0%|          | 0/500 [00:00<?, ?it/s]"
      ]
     },
     "metadata": {},
     "output_type": "display_data"
    },
    {
     "name": "stdout",
     "output_type": "stream",
     "text": [
      "8/8 [==============================] - 0s 10ms/step - loss: 0.1101 - accuracy: 0.9700\n",
      "Layers: 2, Wires: 4, Score: 0.9700000286102295\n"
     ]
    },
    {
     "data": {
      "application/vnd.jupyter.widget-view+json": {
       "model_id": "c9468578d1084cddb2e163eef67d15e6",
       "version_major": 2,
       "version_minor": 0
      },
      "text/plain": [
       "  0%|          | 0/2000 [00:00<?, ?it/s]"
      ]
     },
     "metadata": {},
     "output_type": "display_data"
    },
    {
     "data": {
      "application/vnd.jupyter.widget-view+json": {
       "model_id": "49c401551487413989b959945e231d6b",
       "version_major": 2,
       "version_minor": 0
      },
      "text/plain": [
       "  0%|          | 0/500 [00:00<?, ?it/s]"
      ]
     },
     "metadata": {},
     "output_type": "display_data"
    },
    {
     "data": {
      "application/vnd.jupyter.widget-view+json": {
       "model_id": "a54697d39a0a4c1c8842f80eca5eea5b",
       "version_major": 2,
       "version_minor": 0
      },
      "text/plain": [
       "  0%|          | 0/500 [00:00<?, ?it/s]"
      ]
     },
     "metadata": {},
     "output_type": "display_data"
    },
    {
     "name": "stdout",
     "output_type": "stream",
     "text": [
      "8/8 [==============================] - 0s 9ms/step - loss: 0.1500 - accuracy: 0.9520\n",
      "Layers: 3, Wires: 1, Score: 0.9520000219345093\n"
     ]
    },
    {
     "data": {
      "application/vnd.jupyter.widget-view+json": {
       "model_id": "41c9314166be40d68bc505f14d4e24af",
       "version_major": 2,
       "version_minor": 0
      },
      "text/plain": [
       "  0%|          | 0/2000 [00:00<?, ?it/s]"
      ]
     },
     "metadata": {},
     "output_type": "display_data"
    },
    {
     "data": {
      "application/vnd.jupyter.widget-view+json": {
       "model_id": "5814772d7dbd4864aa9af2338c455f8b",
       "version_major": 2,
       "version_minor": 0
      },
      "text/plain": [
       "  0%|          | 0/500 [00:00<?, ?it/s]"
      ]
     },
     "metadata": {},
     "output_type": "display_data"
    },
    {
     "data": {
      "application/vnd.jupyter.widget-view+json": {
       "model_id": "507dfce7fff44cbc862405556c163d34",
       "version_major": 2,
       "version_minor": 0
      },
      "text/plain": [
       "  0%|          | 0/500 [00:00<?, ?it/s]"
      ]
     },
     "metadata": {},
     "output_type": "display_data"
    },
    {
     "name": "stdout",
     "output_type": "stream",
     "text": [
      "8/8 [==============================] - 0s 10ms/step - loss: 0.0995 - accuracy: 0.9720\n",
      "Layers: 3, Wires: 2, Score: 0.972000002861023\n"
     ]
    },
    {
     "data": {
      "application/vnd.jupyter.widget-view+json": {
       "model_id": "eb7e35d548c6419fa04b6c2ca561a686",
       "version_major": 2,
       "version_minor": 0
      },
      "text/plain": [
       "  0%|          | 0/2000 [00:00<?, ?it/s]"
      ]
     },
     "metadata": {},
     "output_type": "display_data"
    },
    {
     "data": {
      "application/vnd.jupyter.widget-view+json": {
       "model_id": "09569856733b49e197b0eaf1707d5c14",
       "version_major": 2,
       "version_minor": 0
      },
      "text/plain": [
       "  0%|          | 0/500 [00:00<?, ?it/s]"
      ]
     },
     "metadata": {},
     "output_type": "display_data"
    },
    {
     "data": {
      "application/vnd.jupyter.widget-view+json": {
       "model_id": "03112b1b49bd4515b079caf10fe2579d",
       "version_major": 2,
       "version_minor": 0
      },
      "text/plain": [
       "  0%|          | 0/500 [00:00<?, ?it/s]"
      ]
     },
     "metadata": {},
     "output_type": "display_data"
    },
    {
     "name": "stdout",
     "output_type": "stream",
     "text": [
      "8/8 [==============================] - 0s 10ms/step - loss: 0.1406 - accuracy: 0.9660\n",
      "Layers: 3, Wires: 3, Score: 0.9660000205039978\n"
     ]
    },
    {
     "data": {
      "application/vnd.jupyter.widget-view+json": {
       "model_id": "61f340f294a5425b86cc51fbe95cab98",
       "version_major": 2,
       "version_minor": 0
      },
      "text/plain": [
       "  0%|          | 0/2000 [00:00<?, ?it/s]"
      ]
     },
     "metadata": {},
     "output_type": "display_data"
    },
    {
     "data": {
      "application/vnd.jupyter.widget-view+json": {
       "model_id": "6a2a921635a94a6eb6ec4337b0f639af",
       "version_major": 2,
       "version_minor": 0
      },
      "text/plain": [
       "  0%|          | 0/500 [00:00<?, ?it/s]"
      ]
     },
     "metadata": {},
     "output_type": "display_data"
    },
    {
     "data": {
      "application/vnd.jupyter.widget-view+json": {
       "model_id": "818b1f5e3e274c1f917155106cc0be7d",
       "version_major": 2,
       "version_minor": 0
      },
      "text/plain": [
       "  0%|          | 0/500 [00:00<?, ?it/s]"
      ]
     },
     "metadata": {},
     "output_type": "display_data"
    },
    {
     "name": "stdout",
     "output_type": "stream",
     "text": [
      "8/8 [==============================] - 0s 10ms/step - loss: 0.1086 - accuracy: 0.9660\n",
      "Layers: 3, Wires: 4, Score: 0.9660000205039978\n",
      "Wall time: 1d 9h 50min 18s\n"
     ]
    }
   ],
   "source": [
    "%%time\n",
    "for n_layers in range(1, 4):\n",
    "    for n_wires in range(1, 5):        \n",
    "        # get quantum data\n",
    "        preprocess_time, q_train_images, q_val_images, q_test_images = get_quantum_data(train_images, val_images,\n",
    "                                                                                        test_images, n_layers, n_wires)\n",
    "        # train quantum NN\n",
    "        q_model = CNNModel()\n",
    "        tensorboard_callback = tf.keras.callbacks.TensorBoard(log_dir=f\"runs/QNNLayers_{n_layers}Wires_{n_wires}\",\n",
    "                                                              histogram_freq=1)\n",
    "        q_history = q_model.fit(q_train_images, train_labels, validation_data=(q_val_images, val_labels),\n",
    "                                batch_size=64, epochs=20, verbose=0, callbacks=[tensorboard_callback])\n",
    "        # validate\n",
    "        results = q_model.evaluate(q_test_images, test_labels, batch_size=64)\n",
    "        # update statistics\n",
    "        statistics[\"n_layers\"].append(n_layers)\n",
    "        statistics[\"n_wires\"].append(n_wires)\n",
    "        statistics[\"time_processing\"].append(preprocess_time)\n",
    "        statistics[\"Score\"].append(results[1])\n",
    "        # pirnt params\n",
    "        print(f\"Layers: {n_layers}, Wires: {n_wires}, Score: {results[1]}\")"
   ]
  },
  {
   "cell_type": "code",
   "execution_count": 18,
   "id": "c98d9170",
   "metadata": {},
   "outputs": [
    {
     "data": {
      "text/html": [
       "<div>\n",
       "<style scoped>\n",
       "    .dataframe tbody tr th:only-of-type {\n",
       "        vertical-align: middle;\n",
       "    }\n",
       "\n",
       "    .dataframe tbody tr th {\n",
       "        vertical-align: top;\n",
       "    }\n",
       "\n",
       "    .dataframe thead th {\n",
       "        text-align: right;\n",
       "    }\n",
       "</style>\n",
       "<table border=\"1\" class=\"dataframe\">\n",
       "  <thead>\n",
       "    <tr style=\"text-align: right;\">\n",
       "      <th></th>\n",
       "      <th>n_layers</th>\n",
       "      <th>n_wires</th>\n",
       "      <th>time_processing</th>\n",
       "      <th>Score</th>\n",
       "    </tr>\n",
       "  </thead>\n",
       "  <tbody>\n",
       "    <tr>\n",
       "      <th>0</th>\n",
       "      <td>Classic</td>\n",
       "      <td>Classic</td>\n",
       "      <td>Classic</td>\n",
       "      <td>0.964</td>\n",
       "    </tr>\n",
       "    <tr>\n",
       "      <th>2</th>\n",
       "      <td>1</td>\n",
       "      <td>2</td>\n",
       "      <td>6009.53169</td>\n",
       "      <td>0.960</td>\n",
       "    </tr>\n",
       "    <tr>\n",
       "      <th>3</th>\n",
       "      <td>1</td>\n",
       "      <td>3</td>\n",
       "      <td>8535.707037</td>\n",
       "      <td>0.968</td>\n",
       "    </tr>\n",
       "    <tr>\n",
       "      <th>4</th>\n",
       "      <td>1</td>\n",
       "      <td>4</td>\n",
       "      <td>11397.590142</td>\n",
       "      <td>0.976</td>\n",
       "    </tr>\n",
       "    <tr>\n",
       "      <th>6</th>\n",
       "      <td>2</td>\n",
       "      <td>2</td>\n",
       "      <td>8588.147336</td>\n",
       "      <td>0.960</td>\n",
       "    </tr>\n",
       "    <tr>\n",
       "      <th>7</th>\n",
       "      <td>2</td>\n",
       "      <td>3</td>\n",
       "      <td>11805.092293</td>\n",
       "      <td>0.976</td>\n",
       "    </tr>\n",
       "    <tr>\n",
       "      <th>8</th>\n",
       "      <td>2</td>\n",
       "      <td>4</td>\n",
       "      <td>16194.567904</td>\n",
       "      <td>0.970</td>\n",
       "    </tr>\n",
       "    <tr>\n",
       "      <th>10</th>\n",
       "      <td>3</td>\n",
       "      <td>2</td>\n",
       "      <td>11048.144514</td>\n",
       "      <td>0.972</td>\n",
       "    </tr>\n",
       "    <tr>\n",
       "      <th>11</th>\n",
       "      <td>3</td>\n",
       "      <td>3</td>\n",
       "      <td>14004.419777</td>\n",
       "      <td>0.966</td>\n",
       "    </tr>\n",
       "    <tr>\n",
       "      <th>12</th>\n",
       "      <td>3</td>\n",
       "      <td>4</td>\n",
       "      <td>20747.060564</td>\n",
       "      <td>0.966</td>\n",
       "    </tr>\n",
       "  </tbody>\n",
       "</table>\n",
       "</div>"
      ],
      "text/plain": [
       "   n_layers  n_wires time_processing  Score\n",
       "0   Classic  Classic         Classic  0.964\n",
       "2         1        2      6009.53169  0.960\n",
       "3         1        3     8535.707037  0.968\n",
       "4         1        4    11397.590142  0.976\n",
       "6         2        2     8588.147336  0.960\n",
       "7         2        3    11805.092293  0.976\n",
       "8         2        4    16194.567904  0.970\n",
       "10        3        2    11048.144514  0.972\n",
       "11        3        3    14004.419777  0.966\n",
       "12        3        4    20747.060564  0.966"
      ]
     },
     "execution_count": 18,
     "metadata": {},
     "output_type": "execute_result"
    }
   ],
   "source": [
    "df = pd.DataFrame(statistics)\n",
    "df = df.loc[df[\"n_wires\"]!=1]\n",
    "df"
   ]
  },
  {
   "cell_type": "markdown",
   "id": "4b7951ee",
   "metadata": {},
   "source": [
    "## Dataset size"
   ]
  },
  {
   "cell_type": "code",
   "execution_count": 14,
   "id": "f2653518",
   "metadata": {},
   "outputs": [],
   "source": [
    "statistics = {\"Model\":[], \"TrainSize\":[], \"time_processing\":[], \"Accuracy\":[]}"
   ]
  },
  {
   "cell_type": "code",
   "execution_count": 5,
   "id": "6d6b3691",
   "metadata": {},
   "outputs": [
    {
     "data": {
      "application/vnd.jupyter.widget-view+json": {
       "model_id": "a6d858baed15472fac4c91f7a06d6a56",
       "version_major": 2,
       "version_minor": 0
      },
      "text/plain": [
       "  0%|          | 0/8 [00:00<?, ?it/s]"
      ]
     },
     "metadata": {},
     "output_type": "display_data"
    },
    {
     "data": {
      "application/vnd.jupyter.widget-view+json": {
       "model_id": "c43060cae42144b7bc84b5f3ad5d18bd",
       "version_major": 2,
       "version_minor": 0
      },
      "text/plain": [
       "  0%|          | 0/2 [00:00<?, ?it/s]"
      ]
     },
     "metadata": {},
     "output_type": "display_data"
    },
    {
     "data": {
      "application/vnd.jupyter.widget-view+json": {
       "model_id": "bcf3cbb11210483298375945a1471f49",
       "version_major": 2,
       "version_minor": 0
      },
      "text/plain": [
       "  0%|          | 0/10000 [00:00<?, ?it/s]"
      ]
     },
     "metadata": {},
     "output_type": "display_data"
    }
   ],
   "source": [
    "# get quantum test\n",
    "_, _, test_images, _, _, test_labels = get_mnist_data(n_train=10,\n",
    "                                                                                              n_test=None)\n",
    "preprocess_time, q_train_images, q_val_images, q_test_images = get_quantum_data(train_images, val_images,\n",
    "                                                                                test_images, n_layers=1, n_wires=4)\n"
   ]
  },
  {
   "cell_type": "code",
   "execution_count": 15,
   "id": "9772dd79",
   "metadata": {
    "scrolled": true
   },
   "outputs": [
    {
     "data": {
      "application/vnd.jupyter.widget-view+json": {
       "model_id": "a3e3286a14fe400d8fdfd005d2927023",
       "version_major": 2,
       "version_minor": 0
      },
      "text/plain": [
       "  0%|          | 0/80 [00:00<?, ?it/s]"
      ]
     },
     "metadata": {},
     "output_type": "display_data"
    },
    {
     "data": {
      "application/vnd.jupyter.widget-view+json": {
       "model_id": "0266125264184523ad3f34d81977c94a",
       "version_major": 2,
       "version_minor": 0
      },
      "text/plain": [
       "  0%|          | 0/20 [00:00<?, ?it/s]"
      ]
     },
     "metadata": {},
     "output_type": "display_data"
    },
    {
     "name": "stdout",
     "output_type": "stream",
     "text": [
      "157/157 [==============================] - 2s 10ms/step - loss: 1.2875 - accuracy: 0.7366\n",
      "Classic, TrainSize: 100, Score: 0.7365999817848206\n",
      "157/157 [==============================] - 2s 11ms/step - loss: 1.3528 - accuracy: 0.6795\n",
      "QNN, TrainSize: 100, Score: 0.6794999837875366\n"
     ]
    },
    {
     "data": {
      "application/vnd.jupyter.widget-view+json": {
       "model_id": "df735a712aa445dc90eb56a8d5fde9f0",
       "version_major": 2,
       "version_minor": 0
      },
      "text/plain": [
       "  0%|          | 0/400 [00:00<?, ?it/s]"
      ]
     },
     "metadata": {},
     "output_type": "display_data"
    },
    {
     "data": {
      "application/vnd.jupyter.widget-view+json": {
       "model_id": "ed977e3ceb964de38cb0afac195b24dd",
       "version_major": 2,
       "version_minor": 0
      },
      "text/plain": [
       "  0%|          | 0/100 [00:00<?, ?it/s]"
      ]
     },
     "metadata": {},
     "output_type": "display_data"
    },
    {
     "name": "stdout",
     "output_type": "stream",
     "text": [
      "157/157 [==============================] - 2s 10ms/step - loss: 0.6161 - accuracy: 0.8893\n",
      "Classic, TrainSize: 500, Score: 0.8892999887466431\n",
      "157/157 [==============================] - 2s 11ms/step - loss: 0.5232 - accuracy: 0.8969\n",
      "QNN, TrainSize: 500, Score: 0.8968999981880188\n"
     ]
    },
    {
     "data": {
      "application/vnd.jupyter.widget-view+json": {
       "model_id": "a7acc993a2594be2896b36ed1936bcb2",
       "version_major": 2,
       "version_minor": 0
      },
      "text/plain": [
       "  0%|          | 0/800 [00:00<?, ?it/s]"
      ]
     },
     "metadata": {},
     "output_type": "display_data"
    },
    {
     "data": {
      "application/vnd.jupyter.widget-view+json": {
       "model_id": "770896817fb74ab8b037d6151cd44fb4",
       "version_major": 2,
       "version_minor": 0
      },
      "text/plain": [
       "  0%|          | 0/200 [00:00<?, ?it/s]"
      ]
     },
     "metadata": {},
     "output_type": "display_data"
    },
    {
     "name": "stdout",
     "output_type": "stream",
     "text": [
      "157/157 [==============================] - 2s 10ms/step - loss: 0.2665 - accuracy: 0.9393\n",
      "Classic, TrainSize: 1000, Score: 0.939300000667572\n",
      "157/157 [==============================] - 2s 11ms/step - loss: 0.3059 - accuracy: 0.9236\n",
      "QNN, TrainSize: 1000, Score: 0.9236000180244446\n"
     ]
    },
    {
     "data": {
      "application/vnd.jupyter.widget-view+json": {
       "model_id": "5e2a36cca32b4ee1bd8fe83bb27c0a37",
       "version_major": 2,
       "version_minor": 0
      },
      "text/plain": [
       "  0%|          | 0/4000 [00:00<?, ?it/s]"
      ]
     },
     "metadata": {},
     "output_type": "display_data"
    },
    {
     "data": {
      "application/vnd.jupyter.widget-view+json": {
       "model_id": "5f08819172de46bd8954972f9e53cd94",
       "version_major": 2,
       "version_minor": 0
      },
      "text/plain": [
       "  0%|          | 0/1000 [00:00<?, ?it/s]"
      ]
     },
     "metadata": {},
     "output_type": "display_data"
    },
    {
     "name": "stdout",
     "output_type": "stream",
     "text": [
      "157/157 [==============================] - 2s 10ms/step - loss: 0.0937 - accuracy: 0.9765\n",
      "Classic, TrainSize: 5000, Score: 0.9764999747276306\n",
      "157/157 [==============================] - 2s 11ms/step - loss: 0.1363 - accuracy: 0.9733\n",
      "QNN, TrainSize: 5000, Score: 0.9732999801635742\n"
     ]
    },
    {
     "data": {
      "application/vnd.jupyter.widget-view+json": {
       "model_id": "fd9b4d513fd04f8196ae1b20cf4ad6ae",
       "version_major": 2,
       "version_minor": 0
      },
      "text/plain": [
       "  0%|          | 0/16000 [00:00<?, ?it/s]"
      ]
     },
     "metadata": {},
     "output_type": "display_data"
    },
    {
     "data": {
      "application/vnd.jupyter.widget-view+json": {
       "model_id": "b25bcc8f4572444aa7fb8a9ff87112f1",
       "version_major": 2,
       "version_minor": 0
      },
      "text/plain": [
       "  0%|          | 0/4000 [00:00<?, ?it/s]"
      ]
     },
     "metadata": {},
     "output_type": "display_data"
    },
    {
     "name": "stdout",
     "output_type": "stream",
     "text": [
      "157/157 [==============================] - 2s 11ms/step - loss: 0.0619 - accuracy: 0.9866\n",
      "Classic, TrainSize: 20000, Score: 0.9865999817848206\n",
      "157/157 [==============================] - 2s 11ms/step - loss: 0.9609 - accuracy: 0.7110\n",
      "QNN, TrainSize: 20000, Score: 0.7110000252723694\n"
     ]
    },
    {
     "data": {
      "application/vnd.jupyter.widget-view+json": {
       "model_id": "372c035816c04df589aa80bf026bb37d",
       "version_major": 2,
       "version_minor": 0
      },
      "text/plain": [
       "  0%|          | 0/24000 [00:00<?, ?it/s]"
      ]
     },
     "metadata": {},
     "output_type": "display_data"
    },
    {
     "data": {
      "application/vnd.jupyter.widget-view+json": {
       "model_id": "04e9713a657c46d28fef64cf8b39b828",
       "version_major": 2,
       "version_minor": 0
      },
      "text/plain": [
       "  0%|          | 0/6000 [00:00<?, ?it/s]"
      ]
     },
     "metadata": {},
     "output_type": "display_data"
    },
    {
     "name": "stdout",
     "output_type": "stream",
     "text": [
      "157/157 [==============================] - 2s 10ms/step - loss: 0.0525 - accuracy: 0.9897\n",
      "Classic, TrainSize: 30000, Score: 0.9897000193595886\n",
      "157/157 [==============================] - 2s 11ms/step - loss: 0.4856 - accuracy: 0.8621\n",
      "QNN, TrainSize: 30000, Score: 0.8621000051498413\n"
     ]
    }
   ],
   "source": [
    "for train_size in [100, 500, 1000, 5000, 20000, 30000]:\n",
    "    # get data\n",
    "    train_images, val_images, test_images, train_labels, val_labels, test_labels = get_mnist_data(n_train=train_size,\n",
    "                                                                                                  n_test=None)\n",
    "    \n",
    "    # get quantum data\n",
    "    preprocess_time, q_train_images, q_val_images = get_quantum_data(train_images, val_images,\n",
    "                                                                                    test_images, 1, 4, return_test=False)\n",
    "    \n",
    "    # train Classic NN\n",
    "    c_model = CNNModel()\n",
    "    tensorboard_callback = tf.keras.callbacks.TensorBoard(log_dir=f\"runs/ClassicDataset_{train_size}\", histogram_freq=1)\n",
    "    # train\n",
    "    c_history = c_model.fit(train_images, train_labels, validation_data=(val_images, val_labels),\n",
    "                            batch_size=64, epochs=20, verbose=0, callbacks=[tensorboard_callback])\n",
    "    # validate\n",
    "    results = c_model.evaluate(test_images, test_labels, batch_size=64)\n",
    "    # update statistics\n",
    "    statistics[\"Model\"].append(\"Classic\")\n",
    "    statistics[\"TrainSize\"].append(train_size)\n",
    "    statistics[\"time_processing\"].append(\"Classic\")\n",
    "    statistics[\"Accuracy\"].append(results[1])\n",
    "    print(f\"Classic, TrainSize: {train_size}, Score: {results[1]}\")\n",
    "    \n",
    "    # train quantum NN\n",
    "    q_model = CNNModel()\n",
    "    tensorboard_callback = tf.keras.callbacks.TensorBoard(log_dir=f\"runs/QNNDataset_{train_size}\",\n",
    "                                                          histogram_freq=1)\n",
    "    q_history = q_model.fit(q_train_images, train_labels, validation_data=(q_val_images, val_labels),\n",
    "                            batch_size=64, epochs=20, verbose=0, callbacks=[tensorboard_callback])\n",
    "    # validate\n",
    "    results = q_model.evaluate(q_test_images, test_labels, batch_size=64)\n",
    "    # update statistics\n",
    "    statistics[\"Model\"].append(\"QNN\")\n",
    "    statistics[\"TrainSize\"].append(train_size)\n",
    "    statistics[\"time_processing\"].append(preprocess_time)\n",
    "    statistics[\"Accuracy\"].append(results[1])\n",
    "    # pirnt params\n",
    "    print(f\"QNN, TrainSize: {train_size}, Score: {results[1]}\")"
   ]
  },
  {
   "cell_type": "code",
   "execution_count": 16,
   "id": "a0f32b07",
   "metadata": {},
   "outputs": [
    {
     "data": {
      "text/plain": [
       "{'Model': ['Classic',\n",
       "  'QNN',\n",
       "  'Classic',\n",
       "  'QNN',\n",
       "  'Classic',\n",
       "  'QNN',\n",
       "  'Classic',\n",
       "  'QNN',\n",
       "  'Classic',\n",
       "  'QNN',\n",
       "  'Classic',\n",
       "  'QNN'],\n",
       " 'TrainSize': [100,\n",
       "  100,\n",
       "  500,\n",
       "  500,\n",
       "  1000,\n",
       "  1000,\n",
       "  5000,\n",
       "  5000,\n",
       "  20000,\n",
       "  20000,\n",
       "  30000,\n",
       "  30000],\n",
       " 'time_processing': ['Classic',\n",
       "  375.2024953365326,\n",
       "  'Classic',\n",
       "  1858.2192106246948,\n",
       "  'Classic',\n",
       "  3726.7459485530853,\n",
       "  'Classic',\n",
       "  18708.304575681686,\n",
       "  'Classic',\n",
       "  74702.27434682846,\n",
       "  'Classic',\n",
       "  111936.38474965096],\n",
       " 'Accuracy': [0.7365999817848206,\n",
       "  0.6794999837875366,\n",
       "  0.8892999887466431,\n",
       "  0.8968999981880188,\n",
       "  0.939300000667572,\n",
       "  0.9236000180244446,\n",
       "  0.9764999747276306,\n",
       "  0.9732999801635742,\n",
       "  0.9865999817848206,\n",
       "  0.7110000252723694,\n",
       "  0.9897000193595886,\n",
       "  0.8621000051498413]}"
      ]
     },
     "execution_count": 16,
     "metadata": {},
     "output_type": "execute_result"
    }
   ],
   "source": [
    "statistics"
   ]
  },
  {
   "cell_type": "code",
   "execution_count": null,
   "id": "c02854e8",
   "metadata": {},
   "outputs": [],
   "source": []
  },
  {
   "cell_type": "code",
   "execution_count": null,
   "id": "cf70b8b8",
   "metadata": {},
   "outputs": [],
   "source": []
  }
 ],
 "metadata": {
  "kernelspec": {
   "display_name": "Python 3 (ipykernel)",
   "language": "python",
   "name": "python3"
  },
  "language_info": {
   "codemirror_mode": {
    "name": "ipython",
    "version": 3
   },
   "file_extension": ".py",
   "mimetype": "text/x-python",
   "name": "python",
   "nbconvert_exporter": "python",
   "pygments_lexer": "ipython3",
   "version": "3.9.7"
  }
 },
 "nbformat": 4,
 "nbformat_minor": 5
}
